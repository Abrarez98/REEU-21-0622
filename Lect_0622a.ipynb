{
 "cells": [
  {
   "cell_type": "markdown",
   "metadata": {},
   "source": [
    "# Lecture 06-22-2021 -- Part a\n",
    "\n",
    "## Today we will cover\n",
    " - The math package\n",
    " - The NumPy package\n",
    " - Plotting\n",
    " \n",
    "## Today's homework will be ...\n",
    "\n",
    "Create a version of the chutes and ladders game for python.\n",
    " \n",
    "For more detail on python please see the Purdue DataMine web link: <a href=\"https://thedatamine.github.io/the-examples-book/python.html\" target=\"_blank\">Data Mine on Python</a>"
   ]
  },
  {
   "cell_type": "markdown",
   "metadata": {},
   "source": [
    "## The math package\n",
    "Python provides many modules designed for specialized programming tasks. See: <a href=\"https://pypi.org\" target=\"_blank\">The Python Package Index</a>.\n",
    "\n",
    "The math package contains trigonometric, exponential, logarithmic, hyperbolic, and special functions. It also contains a number of useful constants such as `pi` and `e`."
   ]
  },
  {
   "cell_type": "code",
   "execution_count": 21,
   "metadata": {},
   "outputs": [],
   "source": [
    "# A solution to the HW problem of the last class is the function ...\n",
    "def Newtroot(z,epsilon):\n",
    "    x = 1\n",
    "    xp = (x + z/x)/2\n",
    "    e = (xp - x)/x\n",
    "    while (e > epsilon) or (-epsilon > e):\n",
    "        x = xp\n",
    "        xp = (x + z/x)/2\n",
    "        e = (xp - x)/x\n",
    "    return xp    "
   ]
  },
  {
   "cell_type": "markdown",
   "metadata": {},
   "source": [
    "### Let's compare the homemade and the math package versions of the square root function ..."
   ]
  },
  {
   "cell_type": "code",
   "execution_count": 22,
   "metadata": {},
   "outputs": [
    {
     "name": "stdout",
     "output_type": "stream",
     "text": [
      "3.162277660168379\n",
      "3.1622776601683795\n"
     ]
    }
   ],
   "source": [
    "import math\n",
    "z = 10\n",
    "epsilon = 1e-8\n",
    "\n",
    "print(Newtroot(z,epsilon))\n",
    "print(math.sqrt(z))"
   ]
  },
  {
   "cell_type": "markdown",
   "metadata": {},
   "source": [
    "## Some Useful shortcuts, etc."
   ]
  },
  {
   "cell_type": "markdown",
   "metadata": {},
   "source": [
    "### Documentation Commands `?` and `??`"
   ]
  },
  {
   "cell_type": "code",
   "execution_count": 23,
   "metadata": {},
   "outputs": [],
   "source": [
    "# Following a variable or other object by ? will access a short string\n",
    "# of information about it ...\n",
    "z?"
   ]
  },
  {
   "cell_type": "code",
   "execution_count": 24,
   "metadata": {},
   "outputs": [],
   "source": [
    "epsilon?"
   ]
  },
  {
   "cell_type": "code",
   "execution_count": 25,
   "metadata": {},
   "outputs": [],
   "source": [
    "Newtroot?"
   ]
  },
  {
   "cell_type": "code",
   "execution_count": 6,
   "metadata": {},
   "outputs": [],
   "source": [
    "math?"
   ]
  },
  {
   "cell_type": "code",
   "execution_count": 7,
   "metadata": {},
   "outputs": [],
   "source": [
    "# If source code for an object is available, then you can see it using\n",
    "# <object name>??\n",
    "Newtroot??"
   ]
  },
  {
   "cell_type": "code",
   "execution_count": 8,
   "metadata": {},
   "outputs": [],
   "source": [
    "# In some cases the source code is not available. Often because\n",
    "# the code in question was not implemented in python.\n",
    "math.sqrt??"
   ]
  },
  {
   "cell_type": "markdown",
   "metadata": {},
   "source": [
    "### Tab Completion is Cool ...\n",
    "\n",
    "If you type a variable or object name and then hit tab the system will show all the options you have to complete the command ..."
   ]
  },
  {
   "cell_type": "code",
   "execution_count": null,
   "metadata": {},
   "outputs": [],
   "source": [
    "# Attributes and methods associated with an object ... math.<tab>\n"
   ]
  },
  {
   "cell_type": "code",
   "execution_count": 9,
   "metadata": {},
   "outputs": [
    {
     "data": {
      "text/plain": [
       "['__doc__',\n",
       " '__file__',\n",
       " '__loader__',\n",
       " '__name__',\n",
       " '__package__',\n",
       " '__spec__',\n",
       " 'acos',\n",
       " 'acosh',\n",
       " 'asin',\n",
       " 'asinh',\n",
       " 'atan',\n",
       " 'atan2',\n",
       " 'atanh',\n",
       " 'ceil',\n",
       " 'copysign',\n",
       " 'cos',\n",
       " 'cosh',\n",
       " 'degrees',\n",
       " 'e',\n",
       " 'erf',\n",
       " 'erfc',\n",
       " 'exp',\n",
       " 'expm1',\n",
       " 'fabs',\n",
       " 'factorial',\n",
       " 'floor',\n",
       " 'fmod',\n",
       " 'frexp',\n",
       " 'fsum',\n",
       " 'gamma',\n",
       " 'gcd',\n",
       " 'hypot',\n",
       " 'inf',\n",
       " 'isclose',\n",
       " 'isfinite',\n",
       " 'isinf',\n",
       " 'isnan',\n",
       " 'ldexp',\n",
       " 'lgamma',\n",
       " 'log',\n",
       " 'log10',\n",
       " 'log1p',\n",
       " 'log2',\n",
       " 'modf',\n",
       " 'nan',\n",
       " 'pi',\n",
       " 'pow',\n",
       " 'radians',\n",
       " 'sin',\n",
       " 'sinh',\n",
       " 'sqrt',\n",
       " 'tan',\n",
       " 'tanh',\n",
       " 'trunc']"
      ]
     },
     "execution_count": 9,
     "metadata": {},
     "output_type": "execute_result"
    }
   ],
   "source": [
    "# Another way to see the same information is with python's built\n",
    "# in dir() function\n",
    "dir(math)"
   ]
  },
  {
   "cell_type": "code",
   "execution_count": null,
   "metadata": {},
   "outputs": [],
   "source": [
    "# You can type import <tab> to see all of the possible packages available\n",
    "# using the import command ... import <tab>\n",
    "\n",
    "#import "
   ]
  },
  {
   "cell_type": "markdown",
   "metadata": {},
   "source": [
    "### Magic Commands\n",
    "\n",
    "Some of the more useful magic commands are:\n",
    "\n",
    "* `%run`\n",
    "* `%timeit` and `%%timeit`\n",
    "* `%history`"
   ]
  },
  {
   "cell_type": "code",
   "execution_count": 10,
   "metadata": {},
   "outputs": [
    {
     "name": "stdout",
     "output_type": "stream",
     "text": [
      "# A solution to the HW problem of the last class is the function ...\n",
      "def Newtroot(z,epsilon):\n",
      "    x = 1\n",
      "    xp = (x + z/x)/2\n",
      "    e = (xp - x)/x\n",
      "    while (e > epsilon) or (-epsilon > e):\n",
      "        x = xp\n",
      "        xp = (x + z/x)/2\n",
      "        e = (xp - x)/x\n",
      "    return xp\n",
      "import math\n",
      "z = 10\n",
      "epsilon = 1e-8\n",
      "\n",
      "print(Newtroot(z,epsilon))\n",
      "print(math.sqrt(z))\n",
      "# Following a variable or other object by ? will access a short string\n",
      "# of information about it ...\n",
      "z?\n",
      "epsilon?\n",
      "Newtroot?\n",
      "math?\n",
      "# If source code for an object is available, then you can see it using\n",
      "# <object name>??\n",
      "Newtroot??\n",
      "# In some cases the source code is not available. Often because\n",
      "# the code in question was not implemented in python.\n",
      "math.sqrt??\n",
      "# Another way to see the same information is with python's built\n",
      "# in dir() function\n",
      "dir(math)\n",
      "%history\n"
     ]
    }
   ],
   "source": [
    "%history"
   ]
  },
  {
   "cell_type": "markdown",
   "metadata": {},
   "source": [
    "### Profiling and Timing Python Code\n",
    "\n",
    "* `%time` = time the execution of a single statement\n",
    "* `%timeit` = time the execution of a single statement by averaging"
   ]
  },
  {
   "cell_type": "code",
   "execution_count": 11,
   "metadata": {},
   "outputs": [
    {
     "name": "stdout",
     "output_type": "stream",
     "text": [
      "CPU times: user 11 µs, sys: 0 ns, total: 11 µs\n",
      "Wall time: 16 µs\n"
     ]
    },
    {
     "data": {
      "text/plain": [
       "3.162277660168379"
      ]
     },
     "execution_count": 11,
     "metadata": {},
     "output_type": "execute_result"
    }
   ],
   "source": [
    "# Compare our two square root algorithms\n",
    "z = 10\n",
    "epsilon = 1e-10\n",
    "%time Newtroot(z,epsilon)"
   ]
  },
  {
   "cell_type": "code",
   "execution_count": 12,
   "metadata": {},
   "outputs": [
    {
     "name": "stdout",
     "output_type": "stream",
     "text": [
      "100000 loops, best of 3: 3.74 µs per loop\n"
     ]
    }
   ],
   "source": [
    "%timeit Newtroot(z,epsilon)"
   ]
  },
  {
   "cell_type": "code",
   "execution_count": 13,
   "metadata": {},
   "outputs": [
    {
     "name": "stdout",
     "output_type": "stream",
     "text": [
      "CPU times: user 6 µs, sys: 1 µs, total: 7 µs\n",
      "Wall time: 8.82 µs\n"
     ]
    },
    {
     "data": {
      "text/plain": [
       "3.1622776601683795"
      ]
     },
     "execution_count": 13,
     "metadata": {},
     "output_type": "execute_result"
    }
   ],
   "source": [
    "%time math.sqrt(z)"
   ]
  },
  {
   "cell_type": "code",
   "execution_count": 14,
   "metadata": {},
   "outputs": [
    {
     "name": "stdout",
     "output_type": "stream",
     "text": [
      "The slowest run took 12.61 times longer than the fastest. This could mean that an intermediate result is being cached.\n",
      "10000000 loops, best of 3: 193 ns per loop\n"
     ]
    }
   ],
   "source": [
    "%timeit math.sqrt(z)"
   ]
  },
  {
   "cell_type": "markdown",
   "metadata": {},
   "source": [
    "### Certainly looks like the math package square root function is better than our homemade version ...\n",
    "\n",
    "Back to the math package."
   ]
  },
  {
   "cell_type": "code",
   "execution_count": null,
   "metadata": {},
   "outputs": [],
   "source": [
    "# Use <tab> completion to see the items available with the math\n",
    "# package\n",
    "import math\n",
    "\n",
    "math.\n"
   ]
  },
  {
   "cell_type": "code",
   "execution_count": 15,
   "metadata": {},
   "outputs": [
    {
     "name": "stdout",
     "output_type": "stream",
     "text": [
      "The math package's value for pi is:  3.141592653589793\n"
     ]
    }
   ],
   "source": [
    "# So we see the constants pi and e and a variety of functions ...\n",
    "P = math.pi;\n",
    "print(\"The math package's value for pi is: \", P)"
   ]
  },
  {
   "cell_type": "code",
   "execution_count": 16,
   "metadata": {},
   "outputs": [
    {
     "name": "stdout",
     "output_type": "stream",
     "text": [
      "The math package's value for e is:  2.718281828459045\n"
     ]
    }
   ],
   "source": [
    "print(\"The math package's value for e is: \", math.e)"
   ]
  },
  {
   "cell_type": "markdown",
   "metadata": {},
   "source": [
    "### Let's use the math package to create something interesting. "
   ]
  },
  {
   "cell_type": "code",
   "execution_count": 17,
   "metadata": {},
   "outputs": [
    {
     "name": "stdout",
     "output_type": "stream",
     "text": [
      "0.0 0.0\n",
      "0.12566370614359174 0.12533323356430426\n",
      "0.25132741228718347 0.2486898871648548\n",
      "0.37699111843077515 0.3681245526846779\n",
      "0.5026548245743669 0.4817536741017153\n",
      "0.6283185307179586 0.5877852522924731\n",
      "0.7539822368615503 0.6845471059286886\n",
      "0.8796459430051421 0.7705132427757891\n",
      "1.0053096491487339 0.8443279255020151\n",
      "1.1309733552923256 0.9048270524660196\n",
      "1.2566370614359172 0.9510565162951535\n",
      "1.382300767579509 0.9822872507286886\n",
      "1.5079644737231006 0.9980267284282716\n",
      "1.6336281798666925 0.9980267284282716\n",
      "1.7592918860102842 0.9822872507286887\n",
      "1.8849555921538756 0.9510565162951536\n",
      "2.0106192982974678 0.9048270524660195\n",
      "2.1362830044410597 0.844327925502015\n",
      "2.261946710584651 0.7705132427757893\n",
      "2.3876104167282426 0.6845471059286888\n",
      "2.5132741228718345 0.5877852522924732\n",
      "2.6389378290154264 0.4817536741017152\n",
      "2.764601535159018 0.36812455268467814\n",
      "2.8902652413026093 0.24868988716485524\n",
      "3.015928947446201 0.12533323356430454\n",
      "3.141592653589793 1.2246467991473532e-16\n",
      "3.267256359733385 -0.1253332335643043\n",
      "3.3929200658769765 -0.24868988716485457\n",
      "3.5185837720205684 -0.3681245526846779\n",
      "3.6442474781641603 -0.4817536741017154\n",
      "3.7699111843077513 -0.5877852522924727\n",
      "3.895574890451343 -0.6845471059286884\n",
      "4.0212385965949355 -0.7705132427757894\n",
      "4.1469023027385274 -0.8443279255020153\n",
      "4.272566008882119 -0.9048270524660198\n",
      "4.39822971502571 -0.9510565162951535\n",
      "4.523893421169302 -0.9822872507286887\n",
      "4.649557127312894 -0.9980267284282716\n",
      "4.775220833456485 -0.9980267284282716\n",
      "4.900884539600077 -0.9822872507286887\n",
      "5.026548245743669 -0.9510565162951536\n",
      "5.15221195188726 -0.9048270524660199\n",
      "5.277875658030853 -0.8443279255020151\n",
      "5.403539364174444 -0.7705132427757896\n",
      "5.529203070318036 -0.684547105928689\n",
      "5.654866776461628 -0.5877852522924732\n",
      "5.780530482605219 -0.4817536741017161\n",
      "5.906194188748811 -0.3681245526846778\n",
      "6.031857894892402 -0.24868988716485535\n",
      "6.157521601035994 -0.12533323356430467\n"
     ]
    }
   ],
   "source": [
    "# This short program will print a table with 50 rows where\n",
    "# each row contains an argument and the sine of the argument.\n",
    "# The sine function will trace one complete period of length\n",
    "# 2*pi.\n",
    "N = 50;\n",
    "for k in range(N):\n",
    "    t = 2*P*k/N;\n",
    "    print(t, math.sin(t))"
   ]
  },
  {
   "cell_type": "markdown",
   "metadata": {},
   "source": [
    "The table above is difficult to read because it is not well formatted. Python has tools to simplify formating with the print command. There is a nice explanation in the Data Mind notes mentioned in the introduction."
   ]
  },
  {
   "cell_type": "code",
   "execution_count": 18,
   "metadata": {},
   "outputs": [
    {
     "name": "stdout",
     "output_type": "stream",
     "text": [
      "The value of pi is approximately 3.141592653589793\n",
      "\n",
      "The value of pi is approximately 3.142\n"
     ]
    }
   ],
   "source": [
    "# Compare two ways of printing pi\n",
    "print('The value of pi is approximately', P)\n",
    "print()\n",
    "print('The value of pi is approximately {:.3f}'.format(math.pi))"
   ]
  },
  {
   "cell_type": "markdown",
   "metadata": {},
   "source": [
    "Let's make a prettier (more readable) sinewave table."
   ]
  },
  {
   "cell_type": "code",
   "execution_count": 19,
   "metadata": {},
   "outputs": [
    {
     "name": "stdout",
     "output_type": "stream",
     "text": [
      "0.00   0.000\n",
      "0.13   0.125\n",
      "0.25   0.249\n",
      "0.38   0.368\n",
      "0.50   0.482\n",
      "0.63   0.588\n",
      "0.75   0.685\n",
      "0.88   0.771\n",
      "1.01   0.844\n",
      "1.13   0.905\n",
      "1.26   0.951\n",
      "1.38   0.982\n",
      "1.51   0.998\n",
      "1.63   0.998\n",
      "1.76   0.982\n",
      "1.88   0.951\n",
      "2.01   0.905\n",
      "2.14   0.844\n",
      "2.26   0.771\n",
      "2.39   0.685\n",
      "2.51   0.588\n",
      "2.64   0.482\n",
      "2.76   0.368\n",
      "2.89   0.249\n",
      "3.02   0.125\n",
      "3.14   0.000\n",
      "3.27   -0.125\n",
      "3.39   -0.249\n",
      "3.52   -0.368\n",
      "3.64   -0.482\n",
      "3.77   -0.588\n",
      "3.90   -0.685\n",
      "4.02   -0.771\n",
      "4.15   -0.844\n",
      "4.27   -0.905\n",
      "4.40   -0.951\n",
      "4.52   -0.982\n",
      "4.65   -0.998\n",
      "4.78   -0.998\n",
      "4.90   -0.982\n",
      "5.03   -0.951\n",
      "5.15   -0.905\n",
      "5.28   -0.844\n",
      "5.40   -0.771\n",
      "5.53   -0.685\n",
      "5.65   -0.588\n",
      "5.78   -0.482\n",
      "5.91   -0.368\n",
      "6.03   -0.249\n",
      "6.16   -0.125\n"
     ]
    }
   ],
   "source": [
    "# Prettier sine wave table.\n",
    "N = 50;\n",
    "for k in range(N):\n",
    "    t = 2*P*k/N;\n",
    "    print('{:1.2f}   {:.3f}'.format(t,math.sin(t)))"
   ]
  },
  {
   "cell_type": "markdown",
   "metadata": {},
   "source": [
    "## People actually used to plot graphs like this on line printers ... (1980s)"
   ]
  },
  {
   "cell_type": "code",
   "execution_count": 20,
   "metadata": {},
   "outputs": [
    {
     "name": "stdout",
     "output_type": "stream",
     "text": [
      "                             +\n",
      "                                 +\n",
      "                                     +\n",
      "                                         +\n",
      "                                            +\n",
      "                                               +\n",
      "                                                  +\n",
      "                                                     +\n",
      "                                                       +\n",
      "                                                         +\n",
      "                                                          +\n",
      "                                                           +\n",
      "                                                           +\n",
      "                                                           +\n",
      "                                                           +\n",
      "                                                          +\n",
      "                                                         +\n",
      "                                                       +\n",
      "                                                     +\n",
      "                                                  +\n",
      "                                               +\n",
      "                                            +\n",
      "                                         +\n",
      "                                     +\n",
      "                                 +\n",
      "                              +\n",
      "                          +\n",
      "                      +\n",
      "                  +\n",
      "               +\n",
      "            +\n",
      "         +\n",
      "      +\n",
      "    +\n",
      "  +\n",
      " +\n",
      "+\n",
      "+\n",
      "+\n",
      "+\n",
      " +\n",
      "  +\n",
      "    +\n",
      "      +\n",
      "         +\n",
      "            +\n",
      "               +\n",
      "                  +\n",
      "                      +\n",
      "                          +\n",
      "                             +\n",
      "                                 +\n",
      "                                     +\n",
      "                                         +\n",
      "                                            +\n",
      "                                               +\n",
      "                                                  +\n",
      "                                                     +\n",
      "                                                       +\n",
      "                                                         +\n",
      "                                                          +\n",
      "                                                           +\n",
      "                                                           +\n",
      "                                                           +\n",
      "                                                           +\n",
      "                                                          +\n",
      "                                                         +\n",
      "                                                       +\n",
      "                                                     +\n",
      "                                                  +\n",
      "                                               +\n",
      "                                            +\n",
      "                                         +\n",
      "                                     +\n",
      "                                 +\n",
      "                              +\n",
      "                          +\n",
      "                      +\n",
      "                  +\n",
      "               +\n",
      "            +\n",
      "         +\n",
      "      +\n",
      "    +\n",
      "  +\n",
      " +\n",
      "+\n",
      "+\n",
      "+\n",
      "+\n",
      " +\n",
      "  +\n",
      "    +\n",
      "      +\n",
      "         +\n",
      "            +\n",
      "               +\n",
      "                  +\n",
      "                      +\n",
      "                          +\n"
     ]
    }
   ],
   "source": [
    "# An old fashioned sine wave plot.\n",
    "N = 50;\n",
    "for k in range(2*N):\n",
    "    t = 2*P*k/N\n",
    "    s = 1 + math.sin(t)\n",
    "    n = math.ceil(30*s)\n",
    "    x = ''\n",
    "    i = 1\n",
    "    while i < n:\n",
    "        x = x + ' '\n",
    "        i += 1\n",
    "    x = x + '+'\n",
    "    print(x)"
   ]
  },
  {
   "cell_type": "markdown",
   "metadata": {},
   "source": [
    "Mercifully there have been improvements in plotting software and other python packages are available."
   ]
  },
  {
   "cell_type": "markdown",
   "metadata": {},
   "source": [
    "### Let's take a short break and when we come back let's have you all modify the 1980-era line printer plotting code to add cosine to the plot using `o` as a point marker ..."
   ]
  },
  {
   "cell_type": "code",
   "execution_count": null,
   "metadata": {},
   "outputs": [],
   "source": []
  },
  {
   "cell_type": "code",
   "execution_count": null,
   "metadata": {},
   "outputs": [],
   "source": []
  },
  {
   "cell_type": "code",
   "execution_count": null,
   "metadata": {},
   "outputs": [],
   "source": []
  },
  {
   "cell_type": "code",
   "execution_count": null,
   "metadata": {},
   "outputs": [],
   "source": []
  },
  {
   "cell_type": "code",
   "execution_count": null,
   "metadata": {},
   "outputs": [],
   "source": []
  }
 ],
 "metadata": {
  "kernelspec": {
   "display_name": "Python 3",
   "language": "python",
   "name": "python3"
  },
  "language_info": {
   "codemirror_mode": {
    "name": "ipython",
    "version": 3
   },
   "file_extension": ".py",
   "mimetype": "text/x-python",
   "name": "python",
   "nbconvert_exporter": "python",
   "pygments_lexer": "ipython3",
   "version": "3.5.6"
  }
 },
 "nbformat": 4,
 "nbformat_minor": 2
}
